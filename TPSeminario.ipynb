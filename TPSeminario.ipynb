{
 "cells": [
  {
   "cell_type": "markdown",
   "metadata": {},
   "source": [
    "# Clasificación con data de cirugías cardíacas con CEC"
   ]
  },
  {
   "cell_type": "code",
   "execution_count": 305,
   "metadata": {},
   "outputs": [],
   "source": [
    "import findspark\n",
    "findspark.init()"
   ]
  },
  {
   "cell_type": "code",
   "execution_count": 306,
   "metadata": {},
   "outputs": [],
   "source": [
    "from pyspark.sql import SparkSession\n",
    "spark = (\n",
    "    SparkSession.builder\n",
    "    .appName(\"pysparkSeminario\")\n",
    "    .config(\"spark.driver.memory\", \"512m\")\n",
    "    .config(\"spark.driver.cores\", \"1\")\n",
    "    .config(\"spark.executor.memory\", \"512m\")\n",
    "    .config(\"spark.executor.cores\", \"1\")\n",
    "    .config(\"spark.sql.shuffle.partitions\", \"2\")\n",
    "    .getOrCreate()\n",
    ")"
   ]
  },
  {
   "cell_type": "code",
   "execution_count": 307,
   "metadata": {},
   "outputs": [
    {
     "data": {
      "text/plain": [
       "'2.4.5'"
      ]
     },
     "execution_count": 307,
     "metadata": {},
     "output_type": "execute_result"
    }
   ],
   "source": [
    "spark.version"
   ]
  },
  {
   "cell_type": "code",
   "execution_count": 308,
   "metadata": {},
   "outputs": [],
   "source": [
    "from pathlib import Path\n",
    "import pandas as pd"
   ]
  },
  {
   "cell_type": "code",
   "execution_count": 309,
   "metadata": {},
   "outputs": [],
   "source": [
    "def extract_bd_data(url, refresh_cache=False):\n",
    "    cache_fn = Path('/dataset/BD_completa_4.csv')\n",
    "    if not cache_fn.exists() or refresh_cache:\n",
    "        print(\"Getting data\")\n",
    "        cec = pd.read_csv(url)\n",
    "        cec.to_csv(cache_fn, index=False)\n",
    "    print(\"Using cache\")\n",
    "    cec = spark.read.csv(str(cache_fn), header=True)\n",
    "    return cec"
   ]
  },
  {
   "cell_type": "code",
   "execution_count": 310,
   "metadata": {},
   "outputs": [],
   "source": [
    "url = 'https://github.com/CarlosLugones07/SEMINARIO/raw/main/BD_completa.csv'"
   ]
  },
  {
   "cell_type": "code",
   "execution_count": 311,
   "metadata": {},
   "outputs": [
    {
     "name": "stdout",
     "output_type": "stream",
     "text": [
      "Using cache\n"
     ]
    }
   ],
   "source": [
    "cec_raw = extract_bd_data(url)"
   ]
  },
  {
   "cell_type": "code",
   "execution_count": 312,
   "metadata": {},
   "outputs": [
    {
     "data": {
      "text/plain": [
       "pyspark.sql.dataframe.DataFrame"
      ]
     },
     "execution_count": 312,
     "metadata": {},
     "output_type": "execute_result"
    }
   ],
   "source": [
    "type(cec_raw)"
   ]
  },
  {
   "cell_type": "code",
   "execution_count": 313,
   "metadata": {},
   "outputs": [
    {
     "name": "stdout",
     "output_type": "stream",
     "text": [
      "+---+----+---------+---+------+-----------------+--------------+---------+--------+-------+------+-----+\n",
      "|SEX|EDAD|  CIRUGIA|FEY|BYPASS|BYPASS ARTERIALES|BYPASS VENOSOS|  VALVULA|POSICION|T CLAMP|T BOMB|HIPOT|\n",
      "+---+----+---------+---+------+-----------------+--------------+---------+--------+-------+------+-----+\n",
      "|  M|  80|COMBINADO| 63|   1.0|             null|           1.0|BIOLOGICO| AORTICO|     68|    86| LEVE|\n",
      "|  F|  76|COMBINADO| 53|   1.0|             null|           1.0|BIOLOGICO| AORTICO|     60|    80| LEVE|\n",
      "|  M|  75|COMBINADO| 66|   2.0|              1.0|           1.0|BIOLOGICO| AORTICO|     93|   102| LEVE|\n",
      "|  F|  68|COMBINADO| 55|   1.0|              1.0|          null|BIOLOGICO| AORTICO|     50|    70| LEVE|\n",
      "|  F|  65|COMBINADO| 65|   2.0|              1.0|           1.0|BIOLOGICO| AORTICO|     90|   102| LEVE|\n",
      "+---+----+---------+---+------+-----------------+--------------+---------+--------+-------+------+-----+\n",
      "only showing top 5 rows\n",
      "\n"
     ]
    }
   ],
   "source": [
    "cec_raw.show(5)"
   ]
  },
  {
   "cell_type": "code",
   "execution_count": 314,
   "metadata": {},
   "outputs": [
    {
     "name": "stdout",
     "output_type": "stream",
     "text": [
      "root\n",
      " |-- SEX: string (nullable = true)\n",
      " |-- EDAD: string (nullable = true)\n",
      " |-- CIRUGIA: string (nullable = true)\n",
      " |-- FEY: string (nullable = true)\n",
      " |-- BYPASS: string (nullable = true)\n",
      " |-- BYPASS ARTERIALES: string (nullable = true)\n",
      " |-- BYPASS VENOSOS: string (nullable = true)\n",
      " |-- VALVULA: string (nullable = true)\n",
      " |-- POSICION: string (nullable = true)\n",
      " |-- T CLAMP: string (nullable = true)\n",
      " |-- T BOMB: string (nullable = true)\n",
      " |-- HIPOT: string (nullable = true)\n",
      "\n"
     ]
    }
   ],
   "source": [
    "cec_raw.printSchema()"
   ]
  },
  {
   "cell_type": "code",
   "execution_count": 315,
   "metadata": {},
   "outputs": [],
   "source": [
    "from pyspark.sql.types import DoubleType, IntegerType"
   ]
  },
  {
   "cell_type": "code",
   "execution_count": 316,
   "metadata": {},
   "outputs": [],
   "source": [
    "columns_to_convert = ['EDAD', 'FEY', 'BYPASS', 'BYPASS ARTERIALES', 'BYPASS VENOSOS', 'T CLAMP', 'T BOMB']\n",
    "\n",
    "for col_name in columns_to_convert:\n",
    "    cec_raw = cec_raw.withColumn(col_name, cec_raw[col_name].cast(IntegerType()))"
   ]
  },
  {
   "cell_type": "code",
   "execution_count": 317,
   "metadata": {},
   "outputs": [
    {
     "name": "stdout",
     "output_type": "stream",
     "text": [
      "root\n",
      " |-- SEX: string (nullable = true)\n",
      " |-- EDAD: integer (nullable = true)\n",
      " |-- CIRUGIA: string (nullable = true)\n",
      " |-- FEY: integer (nullable = true)\n",
      " |-- BYPASS: integer (nullable = true)\n",
      " |-- BYPASS ARTERIALES: integer (nullable = true)\n",
      " |-- BYPASS VENOSOS: integer (nullable = true)\n",
      " |-- VALVULA: string (nullable = true)\n",
      " |-- POSICION: string (nullable = true)\n",
      " |-- T CLAMP: integer (nullable = true)\n",
      " |-- T BOMB: integer (nullable = true)\n",
      " |-- HIPOT: string (nullable = true)\n",
      "\n"
     ]
    }
   ],
   "source": [
    "cec_raw.printSchema()"
   ]
  },
  {
   "cell_type": "markdown",
   "metadata": {},
   "source": [
    "# Análisis exploratorio de los datos"
   ]
  },
  {
   "cell_type": "code",
   "execution_count": 318,
   "metadata": {},
   "outputs": [
    {
     "name": "stdout",
     "output_type": "stream",
     "text": [
      "+---+-----+\n",
      "|SEX|count|\n",
      "+---+-----+\n",
      "|  F|  163|\n",
      "|  M|  569|\n",
      "+---+-----+\n",
      "\n"
     ]
    }
   ],
   "source": [
    "cec_raw.groupBy('SEX').count().orderBy('count').show(10)"
   ]
  },
  {
   "cell_type": "code",
   "execution_count": 319,
   "metadata": {},
   "outputs": [
    {
     "name": "stdout",
     "output_type": "stream",
     "text": [
      "+--------------+-----+\n",
      "|       CIRUGIA|count|\n",
      "+--------------+-----+\n",
      "|       CRM+CIA|    1|\n",
      "| COMBINADO+RAA|    1|\n",
      "|       CRM+RAA|    1|\n",
      "|           CIV|    1|\n",
      "|CRVAO+CRVM+RAA|    1|\n",
      "|     CRVAO+RAA|    2|\n",
      "|          CRVT|    2|\n",
      "|       CRM+CIV|    3|\n",
      "|   BENTALL+CRM|    7|\n",
      "|           CIA|    9|\n",
      "|           RAA|   17|\n",
      "|       BENTALL|   19|\n",
      "|    CRVAO+CRVM|   34|\n",
      "|          CRVM|   47|\n",
      "|     COMBINADO|   85|\n",
      "|         CRVAO|  102|\n",
      "|           CRM|  400|\n",
      "+--------------+-----+\n",
      "\n"
     ]
    }
   ],
   "source": [
    "cec_raw.groupBy('CIRUGIA').count().orderBy('count').show(30)"
   ]
  },
  {
   "cell_type": "code",
   "execution_count": 320,
   "metadata": {},
   "outputs": [
    {
     "name": "stdout",
     "output_type": "stream",
     "text": [
      "+--------------+-----+\n",
      "|      POSICION|count|\n",
      "+--------------+-----+\n",
      "|   TRICUSPIDEO|    3|\n",
      "|AORTICO+MITRAL|   38|\n",
      "|        MITRAL|   60|\n",
      "|       AORTICO|  199|\n",
      "|          null|  432|\n",
      "+--------------+-----+\n",
      "\n"
     ]
    }
   ],
   "source": [
    "cec_raw.groupBy('POSICION').count().orderBy('count').show(30)"
   ]
  },
  {
   "cell_type": "code",
   "execution_count": 321,
   "metadata": {},
   "outputs": [
    {
     "name": "stdout",
     "output_type": "stream",
     "text": [
      "+-----------+-----+\n",
      "|      HIPOT|count|\n",
      "+-----------+-----+\n",
      "|NORMOTERMIA|    5|\n",
      "|   MODERADA|   13|\n",
      "|   PROFUNDA|   26|\n",
      "|       LEVE|  688|\n",
      "+-----------+-----+\n",
      "\n"
     ]
    }
   ],
   "source": [
    "cec_raw.groupBy('HIPOT').count().orderBy('count').show(10)"
   ]
  },
  {
   "cell_type": "code",
   "execution_count": 322,
   "metadata": {},
   "outputs": [
    {
     "name": "stdout",
     "output_type": "stream",
     "text": [
      "+---------+-----+\n",
      "|  VALVULA|count|\n",
      "+---------+-----+\n",
      "|BIOLOGICO|   84|\n",
      "| MECANICO|  216|\n",
      "|     null|  432|\n",
      "+---------+-----+\n",
      "\n"
     ]
    }
   ],
   "source": [
    "cec_raw.groupBy('VALVULA').count().orderBy('count').show(30)"
   ]
  },
  {
   "cell_type": "code",
   "execution_count": 323,
   "metadata": {},
   "outputs": [
    {
     "data": {
      "text/plain": [
       "732"
      ]
     },
     "execution_count": 323,
     "metadata": {},
     "output_type": "execute_result"
    }
   ],
   "source": [
    "cec_raw.count()"
   ]
  },
  {
   "cell_type": "code",
   "execution_count": 324,
   "metadata": {},
   "outputs": [],
   "source": [
    "quantitative_columns = [\"EDAD\", \"FEY\", \"T CLAMP\", \"T BOMB\"]\n",
    "cec_raw_quantitative = cec_raw.select(quantitative_columns)"
   ]
  },
  {
   "cell_type": "code",
   "execution_count": 325,
   "metadata": {},
   "outputs": [
    {
     "name": "stdout",
     "output_type": "stream",
     "text": [
      "+-------+------------------+-----------------+------------------+------------------+\n",
      "|summary|              EDAD|              FEY|           T CLAMP|            T BOMB|\n",
      "+-------+------------------+-----------------+------------------+------------------+\n",
      "|  count|               732|              732|               732|               732|\n",
      "|   mean| 61.17896174863388|45.88934426229508|61.830601092896174| 95.92349726775956|\n",
      "| stddev|11.300615336860863|9.512899794327517| 25.42629687060247|32.032595314482194|\n",
      "|    min|                17|               20|                 3|                20|\n",
      "|    max|                88|               67|               165|               250|\n",
      "+-------+------------------+-----------------+------------------+------------------+\n",
      "\n"
     ]
    }
   ],
   "source": [
    "summary = cec_raw_quantitative.describe()\n",
    "summary.show()"
   ]
  },
  {
   "cell_type": "code",
   "execution_count": 326,
   "metadata": {},
   "outputs": [],
   "source": [
    "import matplotlib.pyplot as plt"
   ]
  },
  {
   "cell_type": "code",
   "execution_count": 327,
   "metadata": {},
   "outputs": [],
   "source": [
    "selected_cec_raw = cec_raw.select(*quantitative_columns)"
   ]
  },
  {
   "cell_type": "code",
   "execution_count": 328,
   "metadata": {},
   "outputs": [],
   "source": [
    "# Convierte el DataFrame de PySpark a un DataFrame de Pandas para trazar los gráficos\n",
    "pandas_cec_raw = selected_cec_raw.toPandas()"
   ]
  },
  {
   "cell_type": "code",
   "execution_count": 329,
   "metadata": {},
   "outputs": [
    {
     "data": {
      "image/png": "[encoded data removed]",
      "text/plain": [
       "<Figure size 720x432 with 1 Axes>"
      ]
     },
     "metadata": {
      "needs_background": "light"
     },
     "output_type": "display_data"
    }
   ],
   "source": [
    "plt.figure(figsize=(10, 6))\n",
    "plt.hist(pandas_cec_raw[\"EDAD\"], bins=20, alpha=0.5, label=\"EDAD\")\n",
    "plt.legend()\n",
    "plt.title(\"Distribución de VARIABLES\")\n",
    "plt.xlabel(\"Valores\")\n",
    "plt.ylabel(\"Frecuencia\")\n",
    "plt.show()"
   ]
  },
  {
   "cell_type": "code",
   "execution_count": 330,
   "metadata": {},
   "outputs": [
    {
     "data": {
      "image/png": "[encoded data removed]",
      "text/plain": [
       "<Figure size 720x432 with 1 Axes>"
      ]
     },
     "metadata": {
      "needs_background": "light"
     },
     "output_type": "display_data"
    }
   ],
   "source": [
    "plt.figure(figsize=(10, 6))\n",
    "plt.hist(pandas_cec_raw[\"FEY\"], bins=20, alpha=0.5, label=\"FEY\")\n",
    "plt.legend()\n",
    "plt.title(\"Distribución de VARIABLES\")\n",
    "plt.xlabel(\"Valores\")\n",
    "plt.ylabel(\"Frecuencia\")\n",
    "plt.show()"
   ]
  },
  {
   "cell_type": "code",
   "execution_count": 331,
   "metadata": {},
   "outputs": [
    {
     "data": {
      "image/png": "[encoded data removed]",
      "text/plain": [
       "<Figure size 720x432 with 1 Axes>"
      ]
     },
     "metadata": {
      "needs_background": "light"
     },
     "output_type": "display_data"
    }
   ],
   "source": [
    "plt.figure(figsize=(10, 6))\n",
    "plt.hist(pandas_cec_raw[\"T CLAMP\"], bins=20, alpha=0.5, label=\"T CLAMP\")\n",
    "plt.legend()\n",
    "plt.title(\"Distribución de VARIABLES\")\n",
    "plt.xlabel(\"Valores\")\n",
    "plt.ylabel(\"Frecuencia\")\n",
    "plt.show()"
   ]
  },
  {
   "cell_type": "code",
   "execution_count": 332,
   "metadata": {},
   "outputs": [
    {
     "data": {
      "image/png": "[encoded data removed]",
      "text/plain": [
       "<Figure size 720x432 with 1 Axes>"
      ]
     },
     "metadata": {
      "needs_background": "light"
     },
     "output_type": "display_data"
    }
   ],
   "source": [
    "plt.figure(figsize=(10, 6))\n",
    "plt.hist(pandas_cec_raw[\"T BOMB\"], bins=20, alpha=0.5, label=\"T BOMB\")\n",
    "plt.legend()\n",
    "plt.title(\"Distribución de VARIABLES\")\n",
    "plt.xlabel(\"Valores\")\n",
    "plt.ylabel(\"Frecuencia\")\n",
    "plt.show()"
   ]
  },
  {
   "cell_type": "markdown",
   "metadata": {},
   "source": [
    "# Ingeniería de atributos"
   ]
  },
  {
   "cell_type": "code",
   "execution_count": 333,
   "metadata": {},
   "outputs": [],
   "source": [
    "from pyspark.sql.functions import col"
   ]
  },
  {
   "cell_type": "code",
   "execution_count": 334,
   "metadata": {},
   "outputs": [],
   "source": [
    "cec_raw = cec_raw.withColumn(\"DIFF\", col(\"T BOMB\") - col(\"T CLAMP\"))"
   ]
  },
  {
   "cell_type": "code",
   "execution_count": 335,
   "metadata": {},
   "outputs": [
    {
     "name": "stdout",
     "output_type": "stream",
     "text": [
      "+---+----+---------+---+------+-----------------+--------------+---------+--------+-------+------+-----+----+\n",
      "|SEX|EDAD|  CIRUGIA|FEY|BYPASS|BYPASS ARTERIALES|BYPASS VENOSOS|  VALVULA|POSICION|T CLAMP|T BOMB|HIPOT|DIFF|\n",
      "+---+----+---------+---+------+-----------------+--------------+---------+--------+-------+------+-----+----+\n",
      "|  M|  80|COMBINADO| 63|     1|             null|             1|BIOLOGICO| AORTICO|     68|    86| LEVE|  18|\n",
      "|  F|  76|COMBINADO| 53|     1|             null|             1|BIOLOGICO| AORTICO|     60|    80| LEVE|  20|\n",
      "|  M|  75|COMBINADO| 66|     2|                1|             1|BIOLOGICO| AORTICO|     93|   102| LEVE|   9|\n",
      "|  F|  68|COMBINADO| 55|     1|                1|          null|BIOLOGICO| AORTICO|     50|    70| LEVE|  20|\n",
      "|  F|  65|COMBINADO| 65|     2|                1|             1|BIOLOGICO| AORTICO|     90|   102| LEVE|  12|\n",
      "+---+----+---------+---+------+-----------------+--------------+---------+--------+-------+------+-----+----+\n",
      "only showing top 5 rows\n",
      "\n"
     ]
    }
   ],
   "source": [
    "cec_raw.show(5)"
   ]
  },
  {
   "cell_type": "code",
   "execution_count": 336,
   "metadata": {},
   "outputs": [],
   "source": [
    "diff_pd = cec_raw.select(\"DIFF\").toPandas()"
   ]
  },
  {
   "cell_type": "code",
   "execution_count": 337,
   "metadata": {},
   "outputs": [
    {
     "data": {
      "image/png": "[encoded data removed]",
      "text/plain": [
       "<Figure size 576x432 with 1 Axes>"
      ]
     },
     "metadata": {
      "needs_background": "light"
     },
     "output_type": "display_data"
    }
   ],
   "source": [
    "plt.figure(figsize=(8, 6))\n",
    "plt.hist(diff_pd[\"DIFF\"], bins=20, color='blue', alpha=0.7)\n",
    "plt.title('Distribución de la variable DIFF')\n",
    "plt.xlabel('DIFF')\n",
    "plt.ylabel('Frecuencia')\n",
    "plt.grid(True)"
   ]
  },
  {
   "cell_type": "code",
   "execution_count": 338,
   "metadata": {},
   "outputs": [],
   "source": [
    "import seaborn as sns\n",
    "import matplotlib.pyplot as plt"
   ]
  },
  {
   "cell_type": "code",
   "execution_count": 339,
   "metadata": {},
   "outputs": [
    {
     "data": {
      "image/png": "[encoded data removed]",
      "text/plain": [
       "<Figure size 432x288 with 1 Axes>"
      ]
     },
     "metadata": {
      "needs_background": "light"
     },
     "output_type": "display_data"
    }
   ],
   "source": [
    "sns.boxplot(data=cec_raw.toPandas(), x=\"SEX\", y=\"DIFF\")\n",
    "plt.title(\"Box Plot de SEX vs DIFF\")\n",
    "plt.show()"
   ]
  },
  {
   "cell_type": "code",
   "execution_count": 340,
   "metadata": {},
   "outputs": [
    {
     "name": "stdout",
     "output_type": "stream",
     "text": [
      "+---+------------------+\n",
      "|SEX|         mean_DIFF|\n",
      "+---+------------------+\n",
      "|  M|34.746924428822496|\n",
      "|  F|31.809815950920246|\n",
      "+---+------------------+\n",
      "\n"
     ]
    }
   ],
   "source": [
    "# Calcular el resumen de medias\n",
    "dfSEX = cec_raw.select(\"SEX\", \"DIFF\")\n",
    "meansSEX = dfSEX.groupBy(\"SEX\").mean(\"DIFF\")\n",
    "meansSEX = meansSEX.withColumnRenamed(\"avg(DIFF)\", \"mean_DIFF\")\n",
    "meansSEX.show()"
   ]
  },
  {
   "cell_type": "code",
   "execution_count": 341,
   "metadata": {},
   "outputs": [],
   "source": [
    "from pyspark.sql.functions import col\n",
    "from scipy import stats"
   ]
  },
  {
   "cell_type": "code",
   "execution_count": 342,
   "metadata": {},
   "outputs": [],
   "source": [
    "dataSEX = cec_raw.withColumn(\"SEX\", col(\"SEX\").cast(\"string\"))"
   ]
  },
  {
   "cell_type": "code",
   "execution_count": 343,
   "metadata": {},
   "outputs": [],
   "source": [
    "data_M = dataSEX.filter(dataSEX.SEX == \"M\").select(\"DIFF\")\n",
    "data_F = dataSEX.filter(dataSEX.SEX == \"F\").select(\"DIFF\")"
   ]
  },
  {
   "cell_type": "code",
   "execution_count": 344,
   "metadata": {},
   "outputs": [],
   "source": [
    "DIFF_M = data_M.rdd.flatMap(lambda x: x).collect()\n",
    "DIFF_F = data_F.rdd.flatMap(lambda x: x).collect()"
   ]
  },
  {
   "cell_type": "code",
   "execution_count": 345,
   "metadata": {},
   "outputs": [
    {
     "name": "stdout",
     "output_type": "stream",
     "text": [
      "Estadística F: 4.150945560167308\n",
      "Valor p: 0.041971434503442484\n"
     ]
    }
   ],
   "source": [
    "# Realizar el análisis ANOVA\n",
    "f_statistic, p_value = stats.f_oneway(DIFF_M, DIFF_F)\n",
    "\n",
    "print(\"Estadística F:\", f_statistic)\n",
    "print(\"Valor p:\", p_value)"
   ]
  },
  {
   "cell_type": "code",
   "execution_count": 346,
   "metadata": {},
   "outputs": [
    {
     "data": {
      "image/png": "[encoded data removed]",
      "text/plain": [
       "<Figure size 1440x432 with 1 Axes>"
      ]
     },
     "metadata": {
      "needs_background": "light"
     },
     "output_type": "display_data"
    }
   ],
   "source": [
    "plt.figure(figsize=(20, 6))\n",
    "sns.boxplot(data=cec_raw.toPandas(), x=\"CIRUGIA\", y=\"DIFF\")\n",
    "plt.title(\"Box Plot de CIRUGIA vs DIFF\")\n",
    "plt.show()"
   ]
  },
  {
   "cell_type": "code",
   "execution_count": 347,
   "metadata": {},
   "outputs": [
    {
     "name": "stdout",
     "output_type": "stream",
     "text": [
      "+--------------+------------------+\n",
      "|       CIRUGIA|         mean_DIFF|\n",
      "+--------------+------------------+\n",
      "|           CIA| 20.11111111111111|\n",
      "|         CRVAO| 23.50980392156863|\n",
      "|          CRVM|25.319148936170212|\n",
      "|       CRM+CIA|              30.0|\n",
      "|    CRVAO+CRVM|30.029411764705884|\n",
      "|     COMBINADO| 33.71764705882353|\n",
      "|           CRM|           35.8275|\n",
      "|          CRVT|              37.5|\n",
      "|       CRM+RAA|              43.0|\n",
      "|   BENTALL+CRM|45.714285714285715|\n",
      "|       CRM+CIV|46.333333333333336|\n",
      "|     CRVAO+RAA|              49.0|\n",
      "|           CIV|              50.0|\n",
      "|           RAA|54.588235294117645|\n",
      "| COMBINADO+RAA|              55.0|\n",
      "|       BENTALL|58.473684210526315|\n",
      "|CRVAO+CRVM+RAA|             120.0|\n",
      "+--------------+------------------+\n",
      "\n"
     ]
    }
   ],
   "source": [
    "dfCIRUGIA = cec_raw.select(\"CIRUGIA\", \"DIFF\")\n",
    "meansCIRUGIA = dfCIRUGIA.groupBy(\"CIRUGIA\").mean(\"DIFF\")\n",
    "meansCIRUGIA = meansCIRUGIA.withColumnRenamed(\"avg(DIFF)\", \"mean_DIFF\")\n",
    "meansCIRUGIA.orderBy('mean_DIFF').show(20)"
   ]
  },
  {
   "cell_type": "code",
   "execution_count": 348,
   "metadata": {},
   "outputs": [],
   "source": [
    "from pyspark.sql.functions import col\n",
    "from scipy import stats"
   ]
  },
  {
   "cell_type": "code",
   "execution_count": 349,
   "metadata": {},
   "outputs": [],
   "source": [
    "data = cec_raw.withColumn(\"CIRUGIA\", col(\"CIRUGIA\").cast(\"string\"))"
   ]
  },
  {
   "cell_type": "code",
   "execution_count": 350,
   "metadata": {},
   "outputs": [],
   "source": [
    "data_1 = data.filter(data.CIRUGIA == \"CIA\").select(\"DIFF\")\n",
    "data_2 = data.filter(data.CIRUGIA == \"CRVAO\").select(\"DIFF\")\n",
    "data_3 = data.filter(data.CIRUGIA == \"CRVM\").select(\"DIFF\")\n",
    "data_4 = data.filter(data.CIRUGIA == \"CRM+CIA\").select(\"DIFF\")\n",
    "data_5 = data.filter(data.CIRUGIA == \"CRVAO+CRVM\").select(\"DIFF\")\n",
    "data_6 = data.filter(data.CIRUGIA == \"COMBINADO\").select(\"DIFF\")\n",
    "data_7 = data.filter(data.CIRUGIA == \"CRM\").select(\"DIFF\")\n",
    "data_8 = data.filter(data.CIRUGIA == \"CRVT\").select(\"DIFF\")\n",
    "data_9 = data.filter(data.CIRUGIA == \"CRM+RAA\").select(\"DIFF\")\n",
    "data_10 = data.filter(data.CIRUGIA == \"BENTALL+CRM\").select(\"DIFF\")\n",
    "data_11 = data.filter(data.CIRUGIA == \"CRVAO+RAA\").select(\"DIFF\")\n",
    "data_12 = data.filter(data.CIRUGIA == \"CRM+CIV\").select(\"DIFF\")\n",
    "data_13 = data.filter(data.CIRUGIA == \"CIV\").select(\"DIFF\")\n",
    "data_14 = data.filter(data.CIRUGIA == \"RAA\").select(\"DIFF\")\n",
    "data_15 = data.filter(data.CIRUGIA == \"COMBINADO+RAA\").select(\"DIFF\")\n",
    "data_16 = data.filter(data.CIRUGIA == \"BENTALL\").select(\"DIFF\")\n",
    "data_17 = data.filter(data.CIRUGIA == \"CRVAO+CRVM+RAA\").select(\"DIFF\")"
   ]
  },
  {
   "cell_type": "code",
   "execution_count": 351,
   "metadata": {},
   "outputs": [],
   "source": [
    "# Extraer los tiempos de bombeo como listas de Python\n",
    "DIFF_1 = data_1.rdd.flatMap(lambda x: x).collect()\n",
    "DIFF_2 = data_2.rdd.flatMap(lambda x: x).collect()\n",
    "DIFF_3 = data_3.rdd.flatMap(lambda x: x).collect()\n",
    "DIFF_4 = data_4.rdd.flatMap(lambda x: x).collect()\n",
    "DIFF_5 = data_5.rdd.flatMap(lambda x: x).collect()\n",
    "DIFF_6 = data_6.rdd.flatMap(lambda x: x).collect()\n",
    "DIFF_7 = data_7.rdd.flatMap(lambda x: x).collect()\n",
    "DIFF_8 = data_8.rdd.flatMap(lambda x: x).collect()\n",
    "DIFF_9 = data_9.rdd.flatMap(lambda x: x).collect()\n",
    "DIFF_10 = data_10.rdd.flatMap(lambda x: x).collect()\n",
    "DIFF_11 = data_11.rdd.flatMap(lambda x: x).collect()\n",
    "DIFF_12 = data_12.rdd.flatMap(lambda x: x).collect()\n",
    "DIFF_13 = data_13.rdd.flatMap(lambda x: x).collect()\n",
    "DIFF_14 = data_14.rdd.flatMap(lambda x: x).collect()\n",
    "DIFF_15 = data_15.rdd.flatMap(lambda x: x).collect()\n",
    "DIFF_16 = data_16.rdd.flatMap(lambda x: x).collect()\n",
    "DIFF_17 = data_17.rdd.flatMap(lambda x: x).collect()"
   ]
  },
  {
   "cell_type": "code",
   "execution_count": 352,
   "metadata": {},
   "outputs": [
    {
     "name": "stdout",
     "output_type": "stream",
     "text": [
      "Estadística F: 14.371758430810438\n",
      "Valor p: 4.373589338418125e-34\n"
     ]
    }
   ],
   "source": [
    "# Realizar el análisis ANOVA\n",
    "f_statistic, p_value = stats.f_oneway(DIFF_1, DIFF_2, DIFF_3, DIFF_4, DIFF_5, DIFF_6, DIFF_7, DIFF_8, DIFF_9, DIFF_10, DIFF_11, DIFF_12, DIFF_13, DIFF_14, DIFF_15, DIFF_16, DIFF_17)\n",
    "\n",
    "print(\"Estadística F:\", f_statistic)\n",
    "print(\"Valor p:\", p_value)"
   ]
  },
  {
   "cell_type": "code",
   "execution_count": 353,
   "metadata": {},
   "outputs": [
    {
     "data": {
      "image/png": "[encoded data removed]",
      "text/plain": [
       "<Figure size 432x288 with 1 Axes>"
      ]
     },
     "metadata": {
      "needs_background": "light"
     },
     "output_type": "display_data"
    }
   ],
   "source": [
    "sns.boxplot(data=cec_raw.toPandas(), x=\"HIPOT\", y=\"DIFF\")\n",
    "plt.title(\"Box Plot de HIPOT vs DIFF\")\n",
    "plt.show()"
   ]
  },
  {
   "cell_type": "code",
   "execution_count": 354,
   "metadata": {},
   "outputs": [
    {
     "name": "stdout",
     "output_type": "stream",
     "text": [
      "+-----------+-----------------+\n",
      "|      HIPOT|        mean_DIFF|\n",
      "+-----------+-----------------+\n",
      "|       LEVE|32.63226744186046|\n",
      "|NORMOTERMIA|             35.2|\n",
      "|   MODERADA|43.07692307692308|\n",
      "|   PROFUNDA|68.03846153846153|\n",
      "+-----------+-----------------+\n",
      "\n"
     ]
    }
   ],
   "source": [
    "dfHIPOT = cec_raw.select(\"HIPOT\", \"DIFF\")\n",
    "meansHIPOT = dfHIPOT.groupBy(\"HIPOT\").mean(\"DIFF\")\n",
    "meansHIPOT = meansHIPOT.withColumnRenamed(\"avg(DIFF)\", \"mean_DIFF\")\n",
    "meansHIPOT.orderBy('mean_DIFF').show()"
   ]
  },
  {
   "cell_type": "code",
   "execution_count": 355,
   "metadata": {},
   "outputs": [],
   "source": [
    "from pyspark.sql.functions import col\n",
    "from scipy import stats"
   ]
  },
  {
   "cell_type": "code",
   "execution_count": 356,
   "metadata": {},
   "outputs": [],
   "source": [
    "data = cec_raw.withColumn(\"HIPOT\", col(\"HIPOT\").cast(\"string\"))"
   ]
  },
  {
   "cell_type": "code",
   "execution_count": 357,
   "metadata": {},
   "outputs": [],
   "source": [
    "data_Mo = data.filter(data.HIPOT == \"MODERADA\").select(\"DIFF\")\n",
    "data_Le = data.filter(data.HIPOT == \"LEVE\").select(\"DIFF\")\n",
    "data_Nor = data.filter(data.HIPOT == \"NORMOTERMIA\").select(\"DIFF\")\n",
    "data_Pr = data.filter(data.HIPOT == \"PROFUNDA\").select(\"DIFF\")\n"
   ]
  },
  {
   "cell_type": "code",
   "execution_count": 358,
   "metadata": {},
   "outputs": [],
   "source": [
    "DIFF_MO = data_Mo.rdd.flatMap(lambda x: x).collect()\n",
    "DIFF_LE = data_Le.rdd.flatMap(lambda x: x).collect()\n",
    "DIFF_NOR = data_Nor.rdd.flatMap(lambda x: x).collect()\n",
    "DIFF_PR = data_Pr.rdd.flatMap(lambda x: x).collect()\n"
   ]
  },
  {
   "cell_type": "code",
   "execution_count": 359,
   "metadata": {},
   "outputs": [
    {
     "name": "stdout",
     "output_type": "stream",
     "text": [
      "Estadística F: 49.01088092584098\n",
      "Valor p: 7.380014696733004e-29\n"
     ]
    }
   ],
   "source": [
    "# Realizar el análisis ANOVA\n",
    "f_statistic, p_value = stats.f_oneway(DIFF_MO, DIFF_LE, DIFF_NOR, DIFF_PR)\n",
    "\n",
    "print(\"Estadística F:\", f_statistic)\n",
    "print(\"Valor p:\", p_value)"
   ]
  },
  {
   "cell_type": "code",
   "execution_count": 361,
   "metadata": {},
   "outputs": [],
   "source": [
    "# Filtrar columnas sin valores nulos\n",
    "columnas_sin_nulos = [col_name for col_name in cec_raw.columns if cec_raw.filter(col(col_name).isNotNull()).count() == cec_raw.count()]\n",
    "cec_nonull = cec_raw.select(*columnas_sin_nulos)"
   ]
  },
  {
   "cell_type": "code",
   "execution_count": 362,
   "metadata": {},
   "outputs": [
    {
     "name": "stdout",
     "output_type": "stream",
     "text": [
      "+---+----+---------+---+-------+------+-----+----+\n",
      "|SEX|EDAD|  CIRUGIA|FEY|T CLAMP|T BOMB|HIPOT|DIFF|\n",
      "+---+----+---------+---+-------+------+-----+----+\n",
      "|  M|  80|COMBINADO| 63|     68|    86| LEVE|  18|\n",
      "|  F|  76|COMBINADO| 53|     60|    80| LEVE|  20|\n",
      "|  M|  75|COMBINADO| 66|     93|   102| LEVE|   9|\n",
      "|  F|  68|COMBINADO| 55|     50|    70| LEVE|  20|\n",
      "|  F|  65|COMBINADO| 65|     90|   102| LEVE|  12|\n",
      "+---+----+---------+---+-------+------+-----+----+\n",
      "only showing top 5 rows\n",
      "\n"
     ]
    }
   ],
   "source": [
    "cec_nonull.show(5)"
   ]
  },
  {
   "cell_type": "code",
   "execution_count": 363,
   "metadata": {},
   "outputs": [
    {
     "name": "stdout",
     "output_type": "stream",
     "text": [
      "root\n",
      " |-- SEX: string (nullable = true)\n",
      " |-- EDAD: integer (nullable = true)\n",
      " |-- CIRUGIA: string (nullable = true)\n",
      " |-- FEY: integer (nullable = true)\n",
      " |-- T CLAMP: integer (nullable = true)\n",
      " |-- T BOMB: integer (nullable = true)\n",
      " |-- HIPOT: string (nullable = true)\n",
      " |-- DIFF: integer (nullable = true)\n",
      "\n"
     ]
    }
   ],
   "source": [
    "cec_nonull.printSchema()"
   ]
  },
  {
   "cell_type": "markdown",
   "metadata": {},
   "source": [
    "# Correlaciones bivariadas"
   ]
  },
  {
   "cell_type": "code",
   "execution_count": 364,
   "metadata": {},
   "outputs": [],
   "source": [
    "from pyspark.sql.functions import corr"
   ]
  },
  {
   "cell_type": "code",
   "execution_count": 365,
   "metadata": {},
   "outputs": [],
   "source": [
    "correlation_fey = cec_nonull.corr(\"DIFF\", \"FEY\")\n",
    "correlation_edad = cec_nonull.corr(\"DIFF\", \"EDAD\")"
   ]
  },
  {
   "cell_type": "code",
   "execution_count": 366,
   "metadata": {},
   "outputs": [
    {
     "name": "stdout",
     "output_type": "stream",
     "text": [
      "Correlación entre DIFF y FEY: -0.7714855622584246\n",
      "Correlación entre DIFF y EDAD: 0.05044664693055381\n"
     ]
    }
   ],
   "source": [
    "print(f\"Correlación entre DIFF y FEY: {correlation_fey}\")\n",
    "print(f\"Correlación entre DIFF y EDAD: {correlation_edad}\")"
   ]
  },
  {
   "cell_type": "code",
   "execution_count": 367,
   "metadata": {},
   "outputs": [
    {
     "data": {
      "image/png": "[encoded data removed]",
      "text/plain": [
       "<Figure size 720x432 with 1 Axes>"
      ]
     },
     "metadata": {
      "needs_background": "light"
     },
     "output_type": "display_data"
    }
   ],
   "source": [
    "df_diff_fey = cec_nonull.select(\"DIFF\", \"FEY\")\n",
    "df_diff_fey_pd = df_diff_fey.toPandas()\n",
    "plt.figure(figsize=(10, 6))\n",
    "plt.scatter(df_diff_fey_pd[\"FEY\"], df_diff_fey_pd[\"DIFF\"], c='g')\n",
    "plt.xlabel('FEY')\n",
    "plt.ylabel('DIFF')\n",
    "plt.title('Gráfico de Dispersión de DIFF vs FEY')\n",
    "plt.grid(True)\n",
    "plt.show()"
   ]
  },
  {
   "cell_type": "code",
   "execution_count": 368,
   "metadata": {},
   "outputs": [
    {
     "data": {
      "image/png": "[encoded data removed]",
      "text/plain": [
       "<Figure size 720x432 with 1 Axes>"
      ]
     },
     "metadata": {
      "needs_background": "light"
     },
     "output_type": "display_data"
    }
   ],
   "source": [
    "df_diff_edad = cec_nonull.select(\"DIFF\", \"EDAD\")\n",
    "df_diff_edad_pd = df_diff_edad.toPandas()\n",
    "plt.figure(figsize=(10, 6))\n",
    "plt.scatter(df_diff_edad_pd[\"EDAD\"], df_diff_edad_pd[\"DIFF\"], c='g')\n",
    "plt.xlabel('EDAD')\n",
    "plt.ylabel('DIFF')\n",
    "plt.title('Gráfico de Dispersión de DIFF vs EDAD')\n",
    "plt.grid(True)\n",
    "plt.show()"
   ]
  },
  {
   "cell_type": "markdown",
   "metadata": {},
   "source": [
    "# Indexar variables categóricas"
   ]
  },
  {
   "cell_type": "code",
   "execution_count": 369,
   "metadata": {},
   "outputs": [],
   "source": [
    "from pyspark.ml.feature import StringIndexer"
   ]
  },
  {
   "cell_type": "code",
   "execution_count": 370,
   "metadata": {},
   "outputs": [],
   "source": [
    "indexer_sex = StringIndexer(inputCol=\"SEX\", outputCol=\"SEX_indexed\")\n",
    "indexer_cirugia = StringIndexer(inputCol=\"CIRUGIA\", outputCol=\"CIRUGIA_indexed\")\n",
    "indexer_hipot = StringIndexer(inputCol=\"HIPOT\", outputCol=\"HIPOT_indexed\")"
   ]
  },
  {
   "cell_type": "code",
   "execution_count": 371,
   "metadata": {},
   "outputs": [],
   "source": [
    "cec_nonull = indexer_sex.fit(cec_nonull).transform(cec_nonull)\n",
    "cec_nonull = indexer_cirugia.fit(cec_nonull).transform(cec_nonull)\n",
    "cec_nonull = indexer_hipot.fit(cec_nonull).transform(cec_nonull)"
   ]
  },
  {
   "cell_type": "code",
   "execution_count": 372,
   "metadata": {},
   "outputs": [
    {
     "name": "stdout",
     "output_type": "stream",
     "text": [
      "+---+----+---------+---+-------+------+-----+----+-----------+---------------+-------------+\n",
      "|SEX|EDAD|  CIRUGIA|FEY|T CLAMP|T BOMB|HIPOT|DIFF|SEX_indexed|CIRUGIA_indexed|HIPOT_indexed|\n",
      "+---+----+---------+---+-------+------+-----+----+-----------+---------------+-------------+\n",
      "|  M|  80|COMBINADO| 63|     68|    86| LEVE|  18|        0.0|            2.0|          0.0|\n",
      "|  F|  76|COMBINADO| 53|     60|    80| LEVE|  20|        1.0|            2.0|          0.0|\n",
      "|  M|  75|COMBINADO| 66|     93|   102| LEVE|   9|        0.0|            2.0|          0.0|\n",
      "|  F|  68|COMBINADO| 55|     50|    70| LEVE|  20|        1.0|            2.0|          0.0|\n",
      "|  F|  65|COMBINADO| 65|     90|   102| LEVE|  12|        1.0|            2.0|          0.0|\n",
      "+---+----+---------+---+-------+------+-----+----+-----------+---------------+-------------+\n",
      "only showing top 5 rows\n",
      "\n"
     ]
    }
   ],
   "source": [
    "cec_nonull.show(5)"
   ]
  },
  {
   "cell_type": "code",
   "execution_count": 373,
   "metadata": {},
   "outputs": [
    {
     "name": "stdout",
     "output_type": "stream",
     "text": [
      "root\n",
      " |-- SEX: string (nullable = true)\n",
      " |-- EDAD: integer (nullable = true)\n",
      " |-- CIRUGIA: string (nullable = true)\n",
      " |-- FEY: integer (nullable = true)\n",
      " |-- T CLAMP: integer (nullable = true)\n",
      " |-- T BOMB: integer (nullable = true)\n",
      " |-- HIPOT: string (nullable = true)\n",
      " |-- DIFF: integer (nullable = true)\n",
      " |-- SEX_indexed: double (nullable = false)\n",
      " |-- CIRUGIA_indexed: double (nullable = false)\n",
      " |-- HIPOT_indexed: double (nullable = false)\n",
      "\n"
     ]
    }
   ],
   "source": [
    "cec_nonull.printSchema()"
   ]
  },
  {
   "cell_type": "code",
   "execution_count": 374,
   "metadata": {},
   "outputs": [],
   "source": [
    "columns_to_convert2 = ['SEX_indexed', 'CIRUGIA_indexed', 'HIPOT_indexed']\n",
    "\n",
    "for col_name in columns_to_convert2:\n",
    "    cec_nonull = cec_nonull.withColumn(col_name, cec_nonull[col_name].cast(IntegerType()))"
   ]
  },
  {
   "cell_type": "code",
   "execution_count": 375,
   "metadata": {},
   "outputs": [
    {
     "name": "stdout",
     "output_type": "stream",
     "text": [
      "root\n",
      " |-- SEX: string (nullable = true)\n",
      " |-- EDAD: integer (nullable = true)\n",
      " |-- CIRUGIA: string (nullable = true)\n",
      " |-- FEY: integer (nullable = true)\n",
      " |-- T CLAMP: integer (nullable = true)\n",
      " |-- T BOMB: integer (nullable = true)\n",
      " |-- HIPOT: string (nullable = true)\n",
      " |-- DIFF: integer (nullable = true)\n",
      " |-- SEX_indexed: integer (nullable = true)\n",
      " |-- CIRUGIA_indexed: integer (nullable = true)\n",
      " |-- HIPOT_indexed: integer (nullable = true)\n",
      "\n"
     ]
    }
   ],
   "source": [
    "cec_nonull.printSchema()"
   ]
  },
  {
   "cell_type": "code",
   "execution_count": 376,
   "metadata": {},
   "outputs": [
    {
     "name": "stdout",
     "output_type": "stream",
     "text": [
      "+---+----+---------+---+-------+------+-----+----+-----------+---------------+-------------+\n",
      "|SEX|EDAD|  CIRUGIA|FEY|T CLAMP|T BOMB|HIPOT|DIFF|SEX_indexed|CIRUGIA_indexed|HIPOT_indexed|\n",
      "+---+----+---------+---+-------+------+-----+----+-----------+---------------+-------------+\n",
      "|  M|  80|COMBINADO| 63|     68|    86| LEVE|  18|          0|              2|            0|\n",
      "|  F|  76|COMBINADO| 53|     60|    80| LEVE|  20|          1|              2|            0|\n",
      "|  M|  75|COMBINADO| 66|     93|   102| LEVE|   9|          0|              2|            0|\n",
      "|  F|  68|COMBINADO| 55|     50|    70| LEVE|  20|          1|              2|            0|\n",
      "|  F|  65|COMBINADO| 65|     90|   102| LEVE|  12|          1|              2|            0|\n",
      "+---+----+---------+---+-------+------+-----+----+-----------+---------------+-------------+\n",
      "only showing top 5 rows\n",
      "\n"
     ]
    }
   ],
   "source": [
    "cec_nonull.show(5)"
   ]
  },
  {
   "cell_type": "code",
   "execution_count": 377,
   "metadata": {},
   "outputs": [],
   "source": [
    "from pyspark.ml.feature import VectorAssembler"
   ]
  },
  {
   "cell_type": "code",
   "execution_count": 378,
   "metadata": {},
   "outputs": [],
   "source": [
    "feature_cols = [\"EDAD\",\"FEY\",\"SEX_indexed\",\"CIRUGIA_indexed\",\"HIPOT_indexed\"]"
   ]
  },
  {
   "cell_type": "code",
   "execution_count": 379,
   "metadata": {},
   "outputs": [],
   "source": [
    "assembler = VectorAssembler(inputCols=feature_cols, outputCol=\"features\")"
   ]
  },
  {
   "cell_type": "code",
   "execution_count": 380,
   "metadata": {},
   "outputs": [],
   "source": [
    "cec_nonullIN = assembler.transform(cec_nonull)"
   ]
  },
  {
   "cell_type": "code",
   "execution_count": 381,
   "metadata": {},
   "outputs": [
    {
     "name": "stdout",
     "output_type": "stream",
     "text": [
      "+---+----+---------+---+-------+------+-----+----+-----------+---------------+-------------+--------------------+\n",
      "|SEX|EDAD|  CIRUGIA|FEY|T CLAMP|T BOMB|HIPOT|DIFF|SEX_indexed|CIRUGIA_indexed|HIPOT_indexed|            features|\n",
      "+---+----+---------+---+-------+------+-----+----+-----------+---------------+-------------+--------------------+\n",
      "|  M|  80|COMBINADO| 63|     68|    86| LEVE|  18|          0|              2|            0|[80.0,63.0,0.0,2....|\n",
      "|  F|  76|COMBINADO| 53|     60|    80| LEVE|  20|          1|              2|            0|[76.0,53.0,1.0,2....|\n",
      "|  M|  75|COMBINADO| 66|     93|   102| LEVE|   9|          0|              2|            0|[75.0,66.0,0.0,2....|\n",
      "|  F|  68|COMBINADO| 55|     50|    70| LEVE|  20|          1|              2|            0|[68.0,55.0,1.0,2....|\n",
      "|  F|  65|COMBINADO| 65|     90|   102| LEVE|  12|          1|              2|            0|[65.0,65.0,1.0,2....|\n",
      "+---+----+---------+---+-------+------+-----+----+-----------+---------------+-------------+--------------------+\n",
      "only showing top 5 rows\n",
      "\n"
     ]
    }
   ],
   "source": [
    "cec_nonullIN.show(5)"
   ]
  },
  {
   "cell_type": "markdown",
   "metadata": {},
   "source": [
    "# Definición de muestra de entrenamiento y testeo"
   ]
  },
  {
   "cell_type": "code",
   "execution_count": 382,
   "metadata": {},
   "outputs": [],
   "source": [
    "train_cec, test_cec = cec_nonullIN.randomSplit([0.7,0.3],seed=191123)"
   ]
  },
  {
   "cell_type": "code",
   "execution_count": 383,
   "metadata": {},
   "outputs": [
    {
     "data": {
      "text/plain": [
       "511"
      ]
     },
     "execution_count": 383,
     "metadata": {},
     "output_type": "execute_result"
    }
   ],
   "source": [
    "train_cec.count()"
   ]
  },
  {
   "cell_type": "code",
   "execution_count": 384,
   "metadata": {},
   "outputs": [
    {
     "name": "stdout",
     "output_type": "stream",
     "text": [
      "+---+----+----------+---+-------+------+-----------+----+-----------+---------------+-------------+--------------------+\n",
      "|SEX|EDAD|   CIRUGIA|FEY|T CLAMP|T BOMB|      HIPOT|DIFF|SEX_indexed|CIRUGIA_indexed|HIPOT_indexed|            features|\n",
      "+---+----+----------+---+-------+------+-----------+----+-----------+---------------+-------------+--------------------+\n",
      "|  F|  17|       CIA| 65|     10|    27|       LEVE|  17|          1|              7|            0|[17.0,65.0,1.0,7....|\n",
      "|  F|  24|      CRVM| 34|     70|   120|       LEVE|  50|          1|              3|            0|[24.0,34.0,1.0,3....|\n",
      "|  F|  32|     CRVAO| 53|     80|   105|       LEVE|  25|          1|              1|            0|[32.0,53.0,1.0,1....|\n",
      "|  F|  35|       CIA| 60|     14|    30|NORMOTERMIA|  16|          1|              7|            3|[35.0,60.0,1.0,7....|\n",
      "|  F|  35|CRVAO+CRVM| 30|     60|   120|       LEVE|  60|          1|              4|            0|[35.0,30.0,1.0,4....|\n",
      "+---+----+----------+---+-------+------+-----------+----+-----------+---------------+-------------+--------------------+\n",
      "only showing top 5 rows\n",
      "\n"
     ]
    }
   ],
   "source": [
    "train_cec.show(5)"
   ]
  },
  {
   "cell_type": "code",
   "execution_count": 385,
   "metadata": {},
   "outputs": [
    {
     "data": {
      "text/plain": [
       "221"
      ]
     },
     "execution_count": 385,
     "metadata": {},
     "output_type": "execute_result"
    }
   ],
   "source": [
    "test_cec.count()"
   ]
  },
  {
   "cell_type": "code",
   "execution_count": 386,
   "metadata": {},
   "outputs": [
    {
     "name": "stdout",
     "output_type": "stream",
     "text": [
      "+---+----+-----------+---+-------+------+-----+----+-----------+---------------+-------------+--------------------+\n",
      "|SEX|EDAD|    CIRUGIA|FEY|T CLAMP|T BOMB|HIPOT|DIFF|SEX_indexed|CIRUGIA_indexed|HIPOT_indexed|            features|\n",
      "+---+----+-----------+---+-------+------+-----+----+-----------+---------------+-------------+--------------------+\n",
      "|  F|  30|        CIA| 65|     30|    60| LEVE|  30|          1|              7|            0|[30.0,65.0,1.0,7....|\n",
      "|  F|  30|      CRVAO| 44|     80|   110| LEVE|  30|          1|              1|            0|[30.0,44.0,1.0,1....|\n",
      "|  F|  31|        CIA| 65|     30|    45| LEVE|  15|          1|              7|            0|[31.0,65.0,1.0,7....|\n",
      "|  F|  40|BENTALL+CRM| 30|     90|   125| LEVE|  35|          1|              8|            0|[40.0,30.0,1.0,8....|\n",
      "|  F|  43|    BENTALL| 25|     80|   150| LEVE|  70|          1|              5|            0|[43.0,25.0,1.0,5....|\n",
      "+---+----+-----------+---+-------+------+-----+----+-----------+---------------+-------------+--------------------+\n",
      "only showing top 5 rows\n",
      "\n"
     ]
    }
   ],
   "source": [
    "test_cec.show(5)"
   ]
  },
  {
   "cell_type": "markdown",
   "metadata": {},
   "source": [
    "# Regresión lineal"
   ]
  },
  {
   "cell_type": "code",
   "execution_count": 387,
   "metadata": {},
   "outputs": [],
   "source": [
    "from pyspark.ml.regression import LinearRegression"
   ]
  },
  {
   "cell_type": "code",
   "execution_count": 388,
   "metadata": {},
   "outputs": [],
   "source": [
    "lr = LinearRegression(featuresCol=\"features\", labelCol=\"DIFF\")"
   ]
  },
  {
   "cell_type": "code",
   "execution_count": 389,
   "metadata": {},
   "outputs": [],
   "source": [
    "model = lr.fit(train_cec)"
   ]
  },
  {
   "cell_type": "code",
   "execution_count": 390,
   "metadata": {},
   "outputs": [],
   "source": [
    "predictions = model.transform(test_cec)"
   ]
  },
  {
   "cell_type": "code",
   "execution_count": 392,
   "metadata": {},
   "outputs": [
    {
     "name": "stdout",
     "output_type": "stream",
     "text": [
      "+----+------------------+\n",
      "|DIFF|        prediction|\n",
      "+----+------------------+\n",
      "|  30| 7.369846143307711|\n",
      "|  30|33.737390802274284|\n",
      "|  15| 7.379831854119374|\n",
      "|  35|51.812255549088135|\n",
      "|  70|  58.0635360004124|\n",
      "|  50| 38.89474572937439|\n",
      "|  15|11.110965413316876|\n",
      "|  25|21.330252583571436|\n",
      "|  30|22.497962332840345|\n",
      "|  40|27.571547324084023|\n",
      "|  25| 23.88202364541077|\n",
      "|  40|62.187285438429925|\n",
      "|  25|26.325618925599358|\n",
      "|  25|23.901995067034107|\n",
      "|  35| 38.99460283749107|\n",
      "|  40| 51.76177682022188|\n",
      "|  35| 35.21687479879039|\n",
      "|  20|26.509796144380374|\n",
      "|  20| 26.47373755049678|\n",
      "|  20|  27.9920475277899|\n",
      "+----+------------------+\n",
      "only showing top 20 rows\n",
      "\n"
     ]
    }
   ],
   "source": [
    "predictions.select(\"DIFF\", \"prediction\").show(20)"
   ]
  },
  {
   "cell_type": "code",
   "execution_count": 393,
   "metadata": {},
   "outputs": [
    {
     "data": {
      "text/plain": [
       "pyspark.sql.dataframe.DataFrame"
      ]
     },
     "execution_count": 393,
     "metadata": {},
     "output_type": "execute_result"
    }
   ],
   "source": [
    "type(predictions)"
   ]
  },
  {
   "cell_type": "code",
   "execution_count": 394,
   "metadata": {},
   "outputs": [],
   "source": [
    "from pyspark.ml.evaluation import RegressionEvaluator"
   ]
  },
  {
   "cell_type": "code",
   "execution_count": 395,
   "metadata": {},
   "outputs": [],
   "source": [
    "evaluator = RegressionEvaluator(metricName=\"rmse\", labelCol=\"DIFF\",predictionCol=\"prediction\")"
   ]
  },
  {
   "cell_type": "code",
   "execution_count": 396,
   "metadata": {},
   "outputs": [],
   "source": [
    "rmse = evaluator.evaluate(predictions)"
   ]
  },
  {
   "cell_type": "code",
   "execution_count": 397,
   "metadata": {},
   "outputs": [
    {
     "name": "stdout",
     "output_type": "stream",
     "text": [
      "Error cuadrático medio (RMSE): 8.728391569352608\n"
     ]
    }
   ],
   "source": [
    "print(f\"Error cuadrático medio (RMSE): {rmse}\")"
   ]
  },
  {
   "cell_type": "code",
   "execution_count": 398,
   "metadata": {},
   "outputs": [],
   "source": [
    "from pyspark.sql.functions import col, var_pop"
   ]
  },
  {
   "cell_type": "code",
   "execution_count": 399,
   "metadata": {},
   "outputs": [],
   "source": [
    "# Calcula la varianza total de la columna \"DIFF\"\n",
    "varianza_total = predictions.select(var_pop(col(\"DIFF\"))).collect()[0][0]"
   ]
  },
  {
   "cell_type": "code",
   "execution_count": 400,
   "metadata": {},
   "outputs": [],
   "source": [
    "# Calcula R²\n",
    "r_cuadrado = 1 - (rmse**2 / varianza_total)"
   ]
  },
  {
   "cell_type": "code",
   "execution_count": 401,
   "metadata": {},
   "outputs": [
    {
     "name": "stdout",
     "output_type": "stream",
     "text": [
      "Coeficiente de Determinación (R²): 0.7110672224578491\n"
     ]
    }
   ],
   "source": [
    "print(f\"Coeficiente de Determinación (R²): {r_cuadrado}\")"
   ]
  },
  {
   "cell_type": "code",
   "execution_count": 402,
   "metadata": {},
   "outputs": [],
   "source": [
    "import matplotlib.pyplot as plt\n",
    "import numpy as np"
   ]
  },
  {
   "cell_type": "code",
   "execution_count": 403,
   "metadata": {},
   "outputs": [],
   "source": [
    "predictions = predictions.select(\"DIFF\", \"prediction\").toPandas()"
   ]
  },
  {
   "cell_type": "code",
   "execution_count": 404,
   "metadata": {},
   "outputs": [],
   "source": [
    "y_true = predictions[\"DIFF\"]\n",
    "y_pred = predictions[\"prediction\"]"
   ]
  },
  {
   "cell_type": "code",
   "execution_count": 405,
   "metadata": {},
   "outputs": [
    {
     "data": {
      "image/png": "[encoded data removed]",
      "text/plain": [
       "<Figure size 720x432 with 1 Axes>"
      ]
     },
     "metadata": {
      "needs_background": "light"
     },
     "output_type": "display_data"
    }
   ],
   "source": [
    "plt.figure(figsize=(10, 6))\n",
    "plt.scatter(y_true, y_pred, c='b', label='Predicciones vs. Valores Reales')\n",
    "plt.xlabel('Valores Reales (DIFF)')\n",
    "plt.ylabel('Predicciones')\n",
    "plt.title('Comparación entre Predicciones y Valores Reales')\n",
    "plt.legend()\n",
    "plt.grid(True)\n",
    "plt.show()"
   ]
  },
  {
   "cell_type": "code",
   "execution_count": 406,
   "metadata": {},
   "outputs": [],
   "source": [
    "import seaborn as sns"
   ]
  },
  {
   "cell_type": "code",
   "execution_count": 407,
   "metadata": {},
   "outputs": [],
   "source": [
    "import pandas as pd\n",
    "import numpy as np\n",
    "import matplotlib.pyplot as plt\n",
    "\n"
   ]
  },
  {
   "cell_type": "code",
   "execution_count": 408,
   "metadata": {},
   "outputs": [
    {
     "data": {
      "text/html": [
       "<div>\n",
       "<style scoped>\n",
       "    .dataframe tbody tr th:only-of-type {\n",
       "        vertical-align: middle;\n",
       "    }\n",
       "\n",
       "    .dataframe tbody tr th {\n",
       "        vertical-align: top;\n",
       "    }\n",
       "\n",
       "    .dataframe thead th {\n",
       "        text-align: right;\n",
       "    }\n",
       "</style>\n",
       "<table border=\"1\" class=\"dataframe\">\n",
       "  <thead>\n",
       "    <tr style=\"text-align: right;\">\n",
       "      <th></th>\n",
       "      <th>DIFF</th>\n",
       "      <th>prediction</th>\n",
       "      <th>residuos</th>\n",
       "    </tr>\n",
       "  </thead>\n",
       "  <tbody>\n",
       "    <tr>\n",
       "      <th>0</th>\n",
       "      <td>30</td>\n",
       "      <td>7.369846</td>\n",
       "      <td>22.630154</td>\n",
       "    </tr>\n",
       "    <tr>\n",
       "      <th>1</th>\n",
       "      <td>30</td>\n",
       "      <td>33.737391</td>\n",
       "      <td>-3.737391</td>\n",
       "    </tr>\n",
       "    <tr>\n",
       "      <th>2</th>\n",
       "      <td>15</td>\n",
       "      <td>7.379832</td>\n",
       "      <td>7.620168</td>\n",
       "    </tr>\n",
       "    <tr>\n",
       "      <th>3</th>\n",
       "      <td>35</td>\n",
       "      <td>51.812256</td>\n",
       "      <td>-16.812256</td>\n",
       "    </tr>\n",
       "    <tr>\n",
       "      <th>4</th>\n",
       "      <td>70</td>\n",
       "      <td>58.063536</td>\n",
       "      <td>11.936464</td>\n",
       "    </tr>\n",
       "    <tr>\n",
       "      <th>...</th>\n",
       "      <td>...</td>\n",
       "      <td>...</td>\n",
       "      <td>...</td>\n",
       "    </tr>\n",
       "    <tr>\n",
       "      <th>216</th>\n",
       "      <td>55</td>\n",
       "      <td>60.691398</td>\n",
       "      <td>-5.691398</td>\n",
       "    </tr>\n",
       "    <tr>\n",
       "      <th>217</th>\n",
       "      <td>15</td>\n",
       "      <td>21.793057</td>\n",
       "      <td>-6.793057</td>\n",
       "    </tr>\n",
       "    <tr>\n",
       "      <th>218</th>\n",
       "      <td>60</td>\n",
       "      <td>52.148580</td>\n",
       "      <td>7.851420</td>\n",
       "    </tr>\n",
       "    <tr>\n",
       "      <th>219</th>\n",
       "      <td>50</td>\n",
       "      <td>48.482912</td>\n",
       "      <td>1.517088</td>\n",
       "    </tr>\n",
       "    <tr>\n",
       "      <th>220</th>\n",
       "      <td>52</td>\n",
       "      <td>48.410795</td>\n",
       "      <td>3.589205</td>\n",
       "    </tr>\n",
       "  </tbody>\n",
       "</table>\n",
       "<p>221 rows × 3 columns</p>\n",
       "</div>"
      ],
      "text/plain": [
       "     DIFF  prediction   residuos\n",
       "0      30    7.369846  22.630154\n",
       "1      30   33.737391  -3.737391\n",
       "2      15    7.379832   7.620168\n",
       "3      35   51.812256 -16.812256\n",
       "4      70   58.063536  11.936464\n",
       "..    ...         ...        ...\n",
       "216    55   60.691398  -5.691398\n",
       "217    15   21.793057  -6.793057\n",
       "218    60   52.148580   7.851420\n",
       "219    50   48.482912   1.517088\n",
       "220    52   48.410795   3.589205\n",
       "\n",
       "[221 rows x 3 columns]"
      ]
     },
     "execution_count": 408,
     "metadata": {},
     "output_type": "execute_result"
    }
   ],
   "source": [
    "# Calcular los residuos\n",
    "predictions['residuos'] = predictions['DIFF'] - predictions['prediction']\n",
    "predictions\n"
   ]
  },
  {
   "cell_type": "code",
   "execution_count": 409,
   "metadata": {},
   "outputs": [
    {
     "data": {
      "image/png": "[encoded data removed]",
      "text/plain": [
       "<Figure size 720x432 with 1 Axes>"
      ]
     },
     "metadata": {
      "needs_background": "light"
     },
     "output_type": "display_data"
    }
   ],
   "source": [
    "plt.figure(figsize=(10, 6))\n",
    "plt.scatter(predictions['prediction'], predictions['residuos'], c='b')\n",
    "plt.xlabel('Predicciones')\n",
    "plt.ylabel('Residuos')\n",
    "plt.title('Gráfico de Residuos vs. Predicciones')\n",
    "plt.axhline(y=0, color='r', linestyle='-')\n",
    "plt.grid(True)\n",
    "plt.show()\n",
    "\n"
   ]
  },
  {
   "cell_type": "code",
   "execution_count": 410,
   "metadata": {},
   "outputs": [
    {
     "data": {
      "image/png": "[encoded data removed]",
      "text/plain": [
       "<Figure size 720x432 with 1 Axes>"
      ]
     },
     "metadata": {
      "needs_background": "light"
     },
     "output_type": "display_data"
    }
   ],
   "source": [
    "plt.figure(figsize=(10, 6))\n",
    "plt.hist(predictions['residuos'], bins=30, edgecolor='k')\n",
    "plt.xlabel('Residuos')\n",
    "plt.ylabel('Frecuencia')\n",
    "plt.title('Distribución de Residuos')\n",
    "plt.grid(True)\n",
    "plt.show()\n",
    "\n"
   ]
  },
  {
   "cell_type": "code",
   "execution_count": 411,
   "metadata": {},
   "outputs": [
    {
     "name": "stdout",
     "output_type": "stream",
     "text": [
      "Prueba de normalidad de los residuos (W-statistic, p-value): (0.9441724419593811, 1.6701258687135123e-07)\n"
     ]
    }
   ],
   "source": [
    "# Prueba de normalidad de los residuos\n",
    "from scipy.stats import shapiro\n",
    "shapiro_test = shapiro(predictions['residuos'])\n",
    "print(\"Prueba de normalidad de los residuos (W-statistic, p-value):\", shapiro_test)\n",
    "\n"
   ]
  },
  {
   "cell_type": "code",
   "execution_count": null,
   "metadata": {},
   "outputs": [],
   "source": [
    "spark.stop()"
   ]
  }
 ],
 "metadata": {
  "kernelspec": {
   "display_name": "Python 3",
   "language": "python",
   "name": "python3"
  },
  "language_info": {
   "codemirror_mode": {
    "name": "ipython",
    "version": 3
   },
   "file_extension": ".py",
   "mimetype": "text/x-python",
   "name": "python",
   "nbconvert_exporter": "python",
   "pygments_lexer": "ipython3",
   "version": "3.7.3"
  }
 },
 "nbformat": 4,
 "nbformat_minor": 2
}
